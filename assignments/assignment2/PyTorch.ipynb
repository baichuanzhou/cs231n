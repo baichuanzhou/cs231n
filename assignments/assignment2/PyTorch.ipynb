{
  "cells": [
    {
      "cell_type": "markdown",
      "metadata": {
        "id": "view-in-github",
        "colab_type": "text"
      },
      "source": [
        "<a href=\"https://colab.research.google.com/github/baichuanzhou/cs231n/blob/master/assignments/assignment2/PyTorch.ipynb\" target=\"_parent\"><img src=\"https://colab.research.google.com/assets/colab-badge.svg\" alt=\"Open In Colab\"/></a>"
      ]
    },
    {
      "cell_type": "code",
      "execution_count": 5,
      "metadata": {
        "id": "i-ZrBoRYXwjo",
        "colab": {
          "base_uri": "https://localhost:8080/"
        },
        "outputId": "81266c36-5dc2-4c94-fb9e-87645e6fae35"
      },
      "outputs": [
        {
          "output_type": "stream",
          "name": "stdout",
          "text": [
            "Drive already mounted at /content/drive; to attempt to forcibly remount, call drive.mount(\"/content/drive\", force_remount=True).\n",
            "/content/drive/My Drive/cs231n/assignments/assignment2/cs231n/datasets\n",
            "/content/drive/My Drive/cs231n/assignments/assignment2\n"
          ]
        }
      ],
      "source": [
        "# This mounts your Google Drive to the Colab VM.\n",
        "from google.colab import drive\n",
        "drive.mount('/content/drive')\n",
        "\n",
        "# TODO: Enter the foldername in your Drive where you have saved the unzipped\n",
        "# assignment folder, e.g. 'cs231n/assignments/assignment2/'\n",
        "FOLDERNAME = 'cs231n/assignments/assignment2/'\n",
        "assert FOLDERNAME is not None, \"[!] Enter the foldername.\"\n",
        "\n",
        "# Now that we've mounted your Drive, this ensures that\n",
        "# the Python interpreter of the Colab VM can load\n",
        "# python files from within it.\n",
        "import sys\n",
        "sys.path.append('/content/drive/My Drive/{}'.format(FOLDERNAME))\n",
        "\n",
        "# This downloads the CIFAR-10 dataset to your Drive\n",
        "# if it doesn't already exist.\n",
        "%cd /content/drive/My\\ Drive/$FOLDERNAME/cs231n/datasets/\n",
        "!bash get_datasets.sh\n",
        "%cd /content/drive/My\\ Drive/$FOLDERNAME"
      ]
    },
    {
      "cell_type": "markdown",
      "metadata": {
        "tags": [
          "pdf-title"
        ],
        "id": "Yj5YYtEGXwjs"
      },
      "source": [
        "# Introduction to PyTorch\n",
        "\n",
        "You've written a lot of code in this assignment to provide a whole host of neural network functionality. Dropout, Batch Norm, and 2D convolutions are some of the workhorses of deep learning in computer vision. You've also worked hard to make your code efficient and vectorized.\n",
        "\n",
        "For the last part of this assignment, though, we're going to leave behind your beautiful codebase and instead migrate to one of two popular deep learning frameworks: in this instance, PyTorch (or TensorFlow, if you choose to work with that notebook)."
      ]
    },
    {
      "cell_type": "markdown",
      "metadata": {
        "tags": [
          "pdf-ignore"
        ],
        "id": "xxZlkSbZXwjt"
      },
      "source": [
        "## Why do we use deep learning frameworks?\n",
        "\n",
        "* Our code will now run on GPUs! This will allow our models to train much faster. When using a framework like PyTorch or TensorFlow you can harness the power of the GPU for your own custom neural network architectures without having to write CUDA code directly (which is beyond the scope of this class).\n",
        "* In this class, we want you to be ready to use one of these frameworks for your project so you can experiment more efficiently than if you were writing every feature you want to use by hand. \n",
        "* We want you to stand on the shoulders of giants! TensorFlow and PyTorch are both excellent frameworks that will make your lives a lot easier, and now that you understand their guts, you are free to use them :) \n",
        "* Finally, we want you to be exposed to the sort of deep learning code you might run into in academia or industry.\n",
        "\n",
        "## What is PyTorch?\n",
        "\n",
        "PyTorch is a system for executing dynamic computational graphs over Tensor objects that behave similarly as numpy ndarray. It comes with a powerful automatic differentiation engine that removes the need for manual back-propagation. \n",
        "\n",
        "## How do I learn PyTorch?\n",
        "\n",
        "One of our former instructors, Justin Johnson, made an excellent [tutorial](https://github.com/jcjohnson/pytorch-examples) for PyTorch. \n",
        "\n",
        "You can also find the detailed [API doc](http://pytorch.org/docs/stable/index.html) here. If you have other questions that are not addressed by the API docs, the [PyTorch forum](https://discuss.pytorch.org/) is a much better place to ask than StackOverflow."
      ]
    },
    {
      "cell_type": "markdown",
      "metadata": {
        "id": "bm1ZmwSbXwju"
      },
      "source": [
        "# Table of Contents\n",
        "\n",
        "This assignment has 5 parts. You will learn PyTorch on **three different levels of abstraction**, which will help you understand it better and prepare you for the final project. \n",
        "\n",
        "1. Part I, Preparation: we will use CIFAR-10 dataset.\n",
        "2. Part II, Barebones PyTorch: **Abstraction level 1**, we will work directly with the lowest-level PyTorch Tensors. \n",
        "3. Part III, PyTorch Module API: **Abstraction level 2**, we will use `nn.Module` to define arbitrary neural network architecture. \n",
        "4. Part IV, PyTorch Sequential API: **Abstraction level 3**, we will use `nn.Sequential` to define a linear feed-forward network very conveniently. \n",
        "5. Part V, CIFAR-10 open-ended challenge: please implement your own network to get as high accuracy as possible on CIFAR-10. You can experiment with any layer, optimizer, hyperparameters or other advanced features. \n",
        "\n",
        "Here is a table of comparison:\n",
        "\n",
        "| API           | Flexibility | Convenience |\n",
        "|---------------|-------------|-------------|\n",
        "| Barebone      | High        | Low         |\n",
        "| `nn.Module`     | High        | Medium      |\n",
        "| `nn.Sequential` | Low         | High        |"
      ]
    },
    {
      "cell_type": "markdown",
      "metadata": {
        "tags": [
          "pdf-ignore"
        ],
        "id": "F-WokQeLXwjv"
      },
      "source": [
        "# GPU\n",
        "\n",
        "You can manually switch to a GPU device on Colab by clicking `Runtime -> Change runtime type` and selecting `GPU` under `Hardware Accelerator`. You should do this before running the following cells to import packages, since the kernel gets restarted upon switching runtimes."
      ]
    },
    {
      "cell_type": "code",
      "execution_count": 6,
      "metadata": {
        "tags": [
          "pdf-ignore"
        ],
        "id": "ydHRKbEIXwjw",
        "colab": {
          "base_uri": "https://localhost:8080/"
        },
        "outputId": "5616c45d-6c00-4fb1-fda4-ef4f1684f74e"
      },
      "outputs": [
        {
          "output_type": "stream",
          "name": "stdout",
          "text": [
            "using device: cuda\n"
          ]
        }
      ],
      "source": [
        "import torch\n",
        "import torch.nn as nn\n",
        "import torch.optim as optim\n",
        "from torch.utils.data import DataLoader\n",
        "from torch.utils.data import sampler\n",
        "\n",
        "import torchvision.datasets as dset\n",
        "import torchvision.transforms as T\n",
        "\n",
        "import numpy as np\n",
        "\n",
        "USE_GPU = True\n",
        "dtype = torch.float32 # We will be using float throughout this tutorial.\n",
        "\n",
        "if USE_GPU and torch.cuda.is_available():\n",
        "    device = torch.device('cuda')\n",
        "else:\n",
        "    device = torch.device('cpu')\n",
        "\n",
        "# Constant to control how frequently we print train loss.\n",
        "print_every = 100\n",
        "print('using device:', device)"
      ]
    },
    {
      "cell_type": "markdown",
      "metadata": {
        "id": "QCwcQw3-Xwjw"
      },
      "source": [
        "# Part I. Preparation\n",
        "\n",
        "Now, let's load the CIFAR-10 dataset. This might take a couple minutes the first time you do it, but the files should stay cached after that.\n",
        "\n",
        "In previous parts of the assignment we had to write our own code to download the CIFAR-10 dataset, preprocess it, and iterate through it in minibatches; PyTorch provides convenient tools to automate this process for us."
      ]
    },
    {
      "cell_type": "code",
      "execution_count": 7,
      "metadata": {
        "tags": [
          "pdf-ignore"
        ],
        "id": "JsLgnmOdXwjx",
        "colab": {
          "base_uri": "https://localhost:8080/"
        },
        "outputId": "36854c69-f746-47f6-9b8b-26a791659d73"
      },
      "outputs": [
        {
          "output_type": "stream",
          "name": "stdout",
          "text": [
            "Files already downloaded and verified\n",
            "Files already downloaded and verified\n",
            "Files already downloaded and verified\n"
          ]
        }
      ],
      "source": [
        "NUM_TRAIN = 49000\n",
        "\n",
        "# The torchvision.transforms package provides tools for preprocessing data\n",
        "# and for performing data augmentation; here we set up a transform to\n",
        "# preprocess the data by subtracting the mean RGB value and dividing by the\n",
        "# standard deviation of each RGB value; we've hardcoded the mean and std.\n",
        "transform = T.Compose([\n",
        "                T.ToTensor(),\n",
        "                T.Normalize((0.4914, 0.4822, 0.4465), (0.2023, 0.1994, 0.2010))\n",
        "            ])\n",
        "\n",
        "# We set up a Dataset object for each split (train / val / test); Datasets load\n",
        "# training examples one at a time, so we wrap each Dataset in a DataLoader which\n",
        "# iterates through the Dataset and forms minibatches. We divide the CIFAR-10\n",
        "# training set into train and val sets by passing a Sampler object to the\n",
        "# DataLoader telling how it should sample from the underlying Dataset.\n",
        "cifar10_train = dset.CIFAR10('./cs231n/datasets', train=True, download=True,\n",
        "                             transform=transform)\n",
        "loader_train = DataLoader(cifar10_train, batch_size=64, \n",
        "                          sampler=sampler.SubsetRandomSampler(range(NUM_TRAIN)))\n",
        "\n",
        "cifar10_val = dset.CIFAR10('./cs231n/datasets', train=True, download=True,\n",
        "                           transform=transform)\n",
        "loader_val = DataLoader(cifar10_val, batch_size=64, \n",
        "                        sampler=sampler.SubsetRandomSampler(range(NUM_TRAIN, 50000)))\n",
        "\n",
        "cifar10_test = dset.CIFAR10('./cs231n/datasets', train=False, download=True, \n",
        "                            transform=transform)\n",
        "loader_test = DataLoader(cifar10_test, batch_size=64)"
      ]
    },
    {
      "cell_type": "markdown",
      "metadata": {
        "id": "UrE3CtHHXwjx"
      },
      "source": [
        "# Part II. Barebones PyTorch\n",
        "\n",
        "PyTorch ships with high-level APIs to help us define model architectures conveniently, which we will cover in Part II of this tutorial. In this section, we will start with the barebone PyTorch elements to understand the autograd engine better. After this exercise, you will come to appreciate the high-level model API more.\n",
        "\n",
        "We will start with a simple fully-connected ReLU network with two hidden layers and no biases for CIFAR classification. \n",
        "This implementation computes the forward pass using operations on PyTorch Tensors, and uses PyTorch autograd to compute gradients. It is important that you understand every line, because you will write a harder version after the example.\n",
        "\n",
        "When we create a PyTorch Tensor with `requires_grad=True`, then operations involving that Tensor will not just compute values; they will also build up a computational graph in the background, allowing us to easily backpropagate through the graph to compute gradients of some Tensors with respect to a downstream loss. Concretely if x is a Tensor with `x.requires_grad == True` then after backpropagation `x.grad` will be another Tensor holding the gradient of x with respect to the scalar loss at the end."
      ]
    },
    {
      "cell_type": "markdown",
      "metadata": {
        "tags": [
          "pdf-ignore"
        ],
        "id": "n9lbaDAnXwjy"
      },
      "source": [
        "### PyTorch Tensors: Flatten Function\n",
        "A PyTorch Tensor is conceptionally similar to a numpy array: it is an n-dimensional grid of numbers, and like numpy PyTorch provides many functions to efficiently operate on Tensors. As a simple example, we provide a `flatten` function below which reshapes image data for use in a fully-connected neural network.\n",
        "\n",
        "Recall that image data is typically stored in a Tensor of shape N x C x H x W, where:\n",
        "\n",
        "* N is the number of datapoints\n",
        "* C is the number of channels\n",
        "* H is the height of the intermediate feature map in pixels\n",
        "* W is the height of the intermediate feature map in pixels\n",
        "\n",
        "This is the right way to represent the data when we are doing something like a 2D convolution, that needs spatial understanding of where the intermediate features are relative to each other. When we use fully connected affine layers to process the image, however, we want each datapoint to be represented by a single vector -- it's no longer useful to segregate the different channels, rows, and columns of the data. So, we use a \"flatten\" operation to collapse the `C x H x W` values per representation into a single long vector. The flatten function below first reads in the N, C, H, and W values from a given batch of data, and then returns a \"view\" of that data. \"View\" is analogous to numpy's \"reshape\" method: it reshapes x's dimensions to be N x ??, where ?? is allowed to be anything (in this case, it will be C x H x W, but we don't need to specify that explicitly). "
      ]
    },
    {
      "cell_type": "code",
      "execution_count": 8,
      "metadata": {
        "tags": [
          "pdf-ignore-input"
        ],
        "id": "aspgvxqSXwjy",
        "colab": {
          "base_uri": "https://localhost:8080/"
        },
        "outputId": "3ff4da9b-bef2-4a23-ed46-df8bc59e403b"
      },
      "outputs": [
        {
          "output_type": "stream",
          "name": "stdout",
          "text": [
            "Before flattening:  tensor([[[[ 0,  1],\n",
            "          [ 2,  3],\n",
            "          [ 4,  5]]],\n",
            "\n",
            "\n",
            "        [[[ 6,  7],\n",
            "          [ 8,  9],\n",
            "          [10, 11]]]])\n",
            "After flattening:  tensor([[ 0,  1,  2,  3,  4,  5],\n",
            "        [ 6,  7,  8,  9, 10, 11]])\n"
          ]
        }
      ],
      "source": [
        "def flatten(x):\n",
        "    N = x.shape[0] # read in N, C, H, W\n",
        "    return x.view(N, -1)  # \"flatten\" the C * H * W values into a single vector per image\n",
        "\n",
        "def test_flatten():\n",
        "    x = torch.arange(12).view(2, 1, 3, 2)\n",
        "    print('Before flattening: ', x)\n",
        "    print('After flattening: ', flatten(x))\n",
        "\n",
        "test_flatten()"
      ]
    },
    {
      "cell_type": "markdown",
      "metadata": {
        "tags": [
          "pdf-ignore"
        ],
        "id": "mzH6HY-LXwjy"
      },
      "source": [
        "### Barebones PyTorch: Two-Layer Network\n",
        "\n",
        "Here we define a function `two_layer_fc` which performs the forward pass of a two-layer fully-connected ReLU network on a batch of image data. After defining the forward pass we check that it doesn't crash and that it produces outputs of the right shape by running zeros through the network.\n",
        "\n",
        "You don't have to write any code here, but it's important that you read and understand the implementation."
      ]
    },
    {
      "cell_type": "code",
      "execution_count": 9,
      "metadata": {
        "tags": [
          "pdf-ignore-input"
        ],
        "id": "-yauqAV1Xwjz",
        "colab": {
          "base_uri": "https://localhost:8080/"
        },
        "outputId": "6a7f2077-ab36-45db-bccf-9bc3b7de3eee"
      },
      "outputs": [
        {
          "output_type": "stream",
          "name": "stdout",
          "text": [
            "torch.Size([64, 10])\n"
          ]
        }
      ],
      "source": [
        "import torch.nn.functional as F  # useful stateless functions\n",
        "\n",
        "def two_layer_fc(x, params):\n",
        "    \"\"\"\n",
        "    A fully-connected neural networks; the architecture is:\n",
        "    NN is fully connected -> ReLU -> fully connected layer.\n",
        "    Note that this function only defines the forward pass; \n",
        "    PyTorch will take care of the backward pass for us.\n",
        "    \n",
        "    The input to the network will be a minibatch of data, of shape\n",
        "    (N, d1, ..., dM) where d1 * ... * dM = D. The hidden layer will have H units,\n",
        "    and the output layer will produce scores for C classes.\n",
        "    \n",
        "    Inputs:\n",
        "    - x: A PyTorch Tensor of shape (N, d1, ..., dM) giving a minibatch of\n",
        "      input data.\n",
        "    - params: A list [w1, w2] of PyTorch Tensors giving weights for the network;\n",
        "      w1 has shape (D, H) and w2 has shape (H, C).\n",
        "    \n",
        "    Returns:\n",
        "    - scores: A PyTorch Tensor of shape (N, C) giving classification scores for\n",
        "      the input data x.\n",
        "    \"\"\"\n",
        "    # first we flatten the image\n",
        "    x = flatten(x)  # shape: [batch_size, C x H x W]\n",
        "    \n",
        "    w1, w2 = params\n",
        "    \n",
        "    # Forward pass: compute predicted y using operations on Tensors. Since w1 and\n",
        "    # w2 have requires_grad=True, operations involving these Tensors will cause\n",
        "    # PyTorch to build a computational graph, allowing automatic computation of\n",
        "    # gradients. Since we are no longer implementing the backward pass by hand we\n",
        "    # don't need to keep references to intermediate values.\n",
        "    # you can also use `.clamp(min=0)`, equivalent to F.relu()\n",
        "    x = F.relu(x.mm(w1))\n",
        "    x = x.mm(w2)\n",
        "    return x\n",
        "    \n",
        "\n",
        "def two_layer_fc_test():\n",
        "    hidden_layer_size = 42\n",
        "    x = torch.zeros((64, 50), dtype=dtype)  # minibatch size 64, feature dimension 50\n",
        "    w1 = torch.zeros((50, hidden_layer_size), dtype=dtype)\n",
        "    w2 = torch.zeros((hidden_layer_size, 10), dtype=dtype)\n",
        "    scores = two_layer_fc(x, [w1, w2])\n",
        "    print(scores.size())  # you should see [64, 10]\n",
        "\n",
        "two_layer_fc_test()"
      ]
    },
    {
      "cell_type": "markdown",
      "metadata": {
        "id": "vzqUWOj1Xwjz"
      },
      "source": [
        "### Barebones PyTorch: Three-Layer ConvNet\n",
        "\n",
        "Here you will complete the implementation of the function `three_layer_convnet`, which will perform the forward pass of a three-layer convolutional network. Like above, we can immediately test our implementation by passing zeros through the network. The network should have the following architecture:\n",
        "\n",
        "1. A convolutional layer (with bias) with `channel_1` filters, each with shape `KW1 x KH1`, and zero-padding of two\n",
        "2. ReLU nonlinearity\n",
        "3. A convolutional layer (with bias) with `channel_2` filters, each with shape `KW2 x KH2`, and zero-padding of one\n",
        "4. ReLU nonlinearity\n",
        "5. Fully-connected layer with bias, producing scores for C classes.\n",
        "\n",
        "Note that we have **no softmax activation** here after our fully-connected layer: this is because PyTorch's cross entropy loss performs a softmax activation for you, and by bundling that step in makes computation more efficient.\n",
        "\n",
        "**HINT**: For convolutions: http://pytorch.org/docs/stable/nn.html#torch.nn.functional.conv2d; pay attention to the shapes of convolutional filters!"
      ]
    },
    {
      "cell_type": "code",
      "execution_count": 10,
      "metadata": {
        "id": "euZ0UU6mXwj0"
      },
      "outputs": [],
      "source": [
        "def three_layer_convnet(x, params):\n",
        "    \"\"\"\n",
        "    Performs the forward pass of a three-layer convolutional network with the\n",
        "    architecture defined above.\n",
        "\n",
        "    Inputs:\n",
        "    - x: A PyTorch Tensor of shape (N, 3, H, W) giving a minibatch of images\n",
        "    - params: A list of PyTorch Tensors giving the weights and biases for the\n",
        "      network; should contain the following:\n",
        "      - conv_w1: PyTorch Tensor of shape (channel_1, 3, KH1, KW1) giving weights\n",
        "        for the first convolutional layer\n",
        "      - conv_b1: PyTorch Tensor of shape (channel_1,) giving biases for the first\n",
        "        convolutional layer\n",
        "      - conv_w2: PyTorch Tensor of shape (channel_2, channel_1, KH2, KW2) giving\n",
        "        weights for the second convolutional layer\n",
        "      - conv_b2: PyTorch Tensor of shape (channel_2,) giving biases for the second\n",
        "        convolutional layer\n",
        "      - fc_w: PyTorch Tensor giving weights for the fully-connected layer. Can you\n",
        "        figure out what the shape should be?\n",
        "      - fc_b: PyTorch Tensor giving biases for the fully-connected layer. Can you\n",
        "        figure out what the shape should be?\n",
        "    \n",
        "    Returns:\n",
        "    - scores: PyTorch Tensor of shape (N, C) giving classification scores for x\n",
        "    \"\"\"\n",
        "    conv_w1, conv_b1, conv_w2, conv_b2, fc_w, fc_b = params\n",
        "    scores = None\n",
        "    ################################################################################\n",
        "    # TODO: Implement the forward pass for the three-layer ConvNet.                #\n",
        "    ################################################################################\n",
        "    # *****START OF YOUR CODE (DO NOT DELETE/MODIFY THIS LINE)*****\n",
        "\n",
        "    # Compute the Conv and ReLu layer.\n",
        "    first_conv_relu = F.relu(F.conv2d(x, conv_w1, conv_b1, padding=2))\n",
        "    # Compute the second Conv and ReLu layer.\n",
        "    second_conv_relu = F.relu(F.conv2d(first_conv_relu, conv_w2, conv_b2, padding=1))\n",
        "    # Compute the last FC layer.\n",
        "    second_conv_relu = flatten(second_conv_relu)\n",
        "    scores = second_conv_relu.mm(fc_w) + fc_b\n",
        "\n",
        "\n",
        "    # *****END OF YOUR CODE (DO NOT DELETE/MODIFY THIS LINE)*****\n",
        "    ################################################################################\n",
        "    #                                 END OF YOUR CODE                             #\n",
        "    ################################################################################\n",
        "    return scores"
      ]
    },
    {
      "cell_type": "markdown",
      "metadata": {
        "id": "wU8H6H3VXwj0"
      },
      "source": [
        "After defining the forward pass of the ConvNet above, run the following cell to test your implementation.\n",
        "\n",
        "When you run this function, scores should have shape (64, 10)."
      ]
    },
    {
      "cell_type": "code",
      "execution_count": 11,
      "metadata": {
        "tags": [
          "pdf-ignore-input"
        ],
        "test": "barebones_output_shape",
        "id": "kDltCUu3Xwj0",
        "colab": {
          "base_uri": "https://localhost:8080/"
        },
        "outputId": "71cfbf93-f9d2-4a3f-fdf5-481c5980752e"
      },
      "outputs": [
        {
          "output_type": "stream",
          "name": "stdout",
          "text": [
            "torch.Size([64, 10])\n"
          ]
        }
      ],
      "source": [
        "def three_layer_convnet_test():\n",
        "    x = torch.zeros((64, 3, 32, 32), dtype=dtype)  # minibatch size 64, image size [3, 32, 32]\n",
        "\n",
        "    conv_w1 = torch.zeros((6, 3, 5, 5), dtype=dtype)  # [out_channel, in_channel, kernel_H, kernel_W]\n",
        "    conv_b1 = torch.zeros((6,))  # out_channel\n",
        "    conv_w2 = torch.zeros((9, 6, 3, 3), dtype=dtype)  # [out_channel, in_channel, kernel_H, kernel_W]\n",
        "    conv_b2 = torch.zeros((9,))  # out_channel\n",
        "\n",
        "    # you must calculate the shape of the tensor after two conv layers, before the fully-connected layer\n",
        "    fc_w = torch.zeros((9 * 32 * 32, 10))\n",
        "    fc_b = torch.zeros(10)\n",
        "\n",
        "    scores = three_layer_convnet(x, [conv_w1, conv_b1, conv_w2, conv_b2, fc_w, fc_b])\n",
        "    print(scores.size())  # you should see [64, 10]\n",
        "three_layer_convnet_test()"
      ]
    },
    {
      "cell_type": "markdown",
      "metadata": {
        "id": "okB5kyN2Xwj1"
      },
      "source": [
        "### Barebones PyTorch: Initialization\n",
        "Let's write a couple utility methods to initialize the weight matrices for our models.\n",
        "\n",
        "- `random_weight(shape)` initializes a weight tensor with the Kaiming normalization method.\n",
        "- `zero_weight(shape)` initializes a weight tensor with all zeros. Useful for instantiating bias parameters.\n",
        "\n",
        "The `random_weight` function uses the Kaiming normal initialization method, described in:\n",
        "\n",
        "He et al, *Delving Deep into Rectifiers: Surpassing Human-Level Performance on ImageNet Classification*, ICCV 2015, https://arxiv.org/abs/1502.01852"
      ]
    },
    {
      "cell_type": "code",
      "execution_count": 12,
      "metadata": {
        "tags": [
          "pdf-ignore-input"
        ],
        "id": "VTzwMyXWXwj1",
        "colab": {
          "base_uri": "https://localhost:8080/"
        },
        "outputId": "2197ca14-07aa-4f1d-c012-8f47d2d0b6a5"
      },
      "outputs": [
        {
          "output_type": "execute_result",
          "data": {
            "text/plain": [
              "tensor([[ 1.7946, -1.2060,  0.4456, -0.0399,  0.4263],\n",
              "        [ 1.0200, -0.4953,  0.6080, -0.5979,  0.2882],\n",
              "        [-0.1545,  0.7458,  0.0389,  0.1402,  0.1222]], device='cuda:0',\n",
              "       requires_grad=True)"
            ]
          },
          "metadata": {},
          "execution_count": 12
        }
      ],
      "source": [
        "def random_weight(shape):\n",
        "    \"\"\"\n",
        "    Create random Tensors for weights; setting requires_grad=True means that we\n",
        "    want to compute gradients for these Tensors during the backward pass.\n",
        "    We use Kaiming normalization: sqrt(2 / fan_in)\n",
        "    \"\"\"\n",
        "    if len(shape) == 2:  # FC weight\n",
        "        fan_in = shape[0]\n",
        "    else:\n",
        "        fan_in = np.prod(shape[1:]) # conv weight [out_channel, in_channel, kH, kW]\n",
        "    # randn is standard normal distribution generator. \n",
        "    w = torch.randn(shape, device=device, dtype=dtype) * np.sqrt(2. / fan_in)\n",
        "    w.requires_grad = True\n",
        "    return w\n",
        "8\n",
        "def zero_weight(shape):\n",
        "    return torch.zeros(shape, device=device, dtype=dtype, requires_grad=True)\n",
        "\n",
        "# create a weight of shape [3 x 5]\n",
        "# you should see the type `torch.cuda.FloatTensor` if you use GPU. \n",
        "# Otherwise it should be `torch.FloatTensor`\n",
        "random_weight((3, 5))"
      ]
    },
    {
      "cell_type": "markdown",
      "metadata": {
        "id": "lx-HtOmHXwj1"
      },
      "source": [
        "### Barebones PyTorch: Check Accuracy\n",
        "When training the model we will use the following function to check the accuracy of our model on the training or validation sets.\n",
        "\n",
        "When checking accuracy we don't need to compute any gradients; as a result we don't need PyTorch to build a computational graph for us when we compute scores. To prevent a graph from being built we scope our computation under a `torch.no_grad()` context manager."
      ]
    },
    {
      "cell_type": "code",
      "execution_count": 13,
      "metadata": {
        "tags": [
          "pdf-ignore-input"
        ],
        "id": "lp1tWC6hXwj2"
      },
      "outputs": [],
      "source": [
        "def check_accuracy_part2(loader, model_fn, params):\n",
        "    \"\"\"\n",
        "    Check the accuracy of a classification model.\n",
        "    \n",
        "    Inputs:\n",
        "    - loader: A DataLoader for the data split we want to check\n",
        "    - model_fn: A function that performs the forward pass of the model,\n",
        "      with the signature scores = model_fn(x, params)\n",
        "    - params: List of PyTorch Tensors giving parameters of the model\n",
        "    \n",
        "    Returns: Nothing, but prints the accuracy of the model\n",
        "    \"\"\"\n",
        "    split = 'val' if loader.dataset.train else 'test'\n",
        "    print('Checking accuracy on the %s set' % split)\n",
        "    num_correct, num_samples = 0, 0\n",
        "    with torch.no_grad():\n",
        "        for x, y in loader:\n",
        "            x = x.to(device=device, dtype=dtype)  # move to device, e.g. GPU\n",
        "            y = y.to(device=device, dtype=torch.int64)\n",
        "            scores = model_fn(x, params)\n",
        "            _, preds = scores.max(1)\n",
        "            num_correct += (preds == y).sum()\n",
        "            num_samples += preds.size(0)\n",
        "        acc = float(num_correct) / num_samples\n",
        "        print('Got %d / %d correct (%.2f%%)' % (num_correct, num_samples, 100 * acc))"
      ]
    },
    {
      "cell_type": "markdown",
      "metadata": {
        "id": "gnr9zGkWXwj2"
      },
      "source": [
        "### BareBones PyTorch: Training Loop\n",
        "We can now set up a basic training loop to train our network. We will train the model using stochastic gradient descent without momentum. We will use `torch.functional.cross_entropy` to compute the loss; you can [read about it here](http://pytorch.org/docs/stable/nn.html#cross-entropy).\n",
        "\n",
        "The training loop takes as input the neural network function, a list of initialized parameters (`[w1, w2]` in our example), and learning rate."
      ]
    },
    {
      "cell_type": "code",
      "execution_count": 14,
      "metadata": {
        "tags": [
          "pdf-ignore-input"
        ],
        "id": "0Ape_fHfXwj2"
      },
      "outputs": [],
      "source": [
        "def train_part2(model_fn, params, learning_rate):\n",
        "    \"\"\"\n",
        "    Train a model on CIFAR-10.\n",
        "    \n",
        "    Inputs:\n",
        "    - model_fn: A Python function that performs the forward pass of the model.\n",
        "      It should have the signature scores = model_fn(x, params) where x is a\n",
        "      PyTorch Tensor of image data, params is a list of PyTorch Tensors giving\n",
        "      model weights, and scores is a PyTorch Tensor of shape (N, C) giving\n",
        "      scores for the elements in x.\n",
        "    - params: List of PyTorch Tensors giving weights for the model\n",
        "    - learning_rate: Python scalar giving the learning rate to use for SGD\n",
        "    \n",
        "    Returns: Nothing\n",
        "    \"\"\"\n",
        "    for t, (x, y) in enumerate(loader_train):\n",
        "        # Move the data to the proper device (GPU or CPU)\n",
        "        x = x.to(device=device, dtype=dtype)\n",
        "        y = y.to(device=device, dtype=torch.long)\n",
        "\n",
        "        # Forward pass: compute scores and loss\n",
        "        scores = model_fn(x, params)\n",
        "        loss = F.cross_entropy(scores, y)\n",
        "\n",
        "        # Backward pass: PyTorch figures out which Tensors in the computational\n",
        "        # graph has requires_grad=True and uses backpropagation to compute the\n",
        "        # gradient of the loss with respect to these Tensors, and stores the\n",
        "        # gradients in the .grad attribute of each Tensor.\n",
        "        loss.backward()\n",
        "\n",
        "        # Update parameters. We don't want to backpropagate through the\n",
        "        # parameter updates, so we scope the updates under a torch.no_grad()\n",
        "        # context manager to prevent a computational graph from being built.\n",
        "        with torch.no_grad():\n",
        "            for w in params:\n",
        "                w -= learning_rate * w.grad\n",
        "\n",
        "                # Manually zero the gradients after running the backward pass\n",
        "                w.grad.zero_()\n",
        "\n",
        "        if t % print_every == 0:\n",
        "            print('Iteration %d, loss = %.4f' % (t, loss.item()))\n",
        "            check_accuracy_part2(loader_val, model_fn, params)\n",
        "            print()"
      ]
    },
    {
      "cell_type": "markdown",
      "metadata": {
        "id": "oby7YrPRXwj2"
      },
      "source": [
        "### BareBones PyTorch: Train a Two-Layer Network\n",
        "Now we are ready to run the training loop. We need to explicitly allocate tensors for the fully connected weights, `w1` and `w2`. \n",
        "\n",
        "Each minibatch of CIFAR has 64 examples, so the tensor shape is `[64, 3, 32, 32]`. \n",
        "\n",
        "After flattening, `x` shape should be `[64, 3 * 32 * 32]`. This will be the size of the first dimension of `w1`. \n",
        "The second dimension of `w1` is the hidden layer size, which will also be the first dimension of `w2`. \n",
        "\n",
        "Finally, the output of the network is a 10-dimensional vector that represents the probability distribution over 10 classes. \n",
        "\n",
        "You don't need to tune any hyperparameters but you should see accuracies above 40% after training for one epoch."
      ]
    },
    {
      "cell_type": "code",
      "execution_count": 15,
      "metadata": {
        "id": "wFDLr2udXwj3",
        "colab": {
          "base_uri": "https://localhost:8080/"
        },
        "outputId": "f1469669-27e5-4bec-9371-4ff3d9875940"
      },
      "outputs": [
        {
          "output_type": "stream",
          "name": "stdout",
          "text": [
            "Iteration 0, loss = 3.5802\n",
            "Checking accuracy on the val set\n",
            "Got 123 / 1000 correct (12.30%)\n",
            "\n",
            "Iteration 100, loss = 1.7266\n",
            "Checking accuracy on the val set\n",
            "Got 352 / 1000 correct (35.20%)\n",
            "\n",
            "Iteration 200, loss = 2.3382\n",
            "Checking accuracy on the val set\n",
            "Got 368 / 1000 correct (36.80%)\n",
            "\n",
            "Iteration 300, loss = 2.0071\n",
            "Checking accuracy on the val set\n",
            "Got 424 / 1000 correct (42.40%)\n",
            "\n",
            "Iteration 400, loss = 1.9737\n",
            "Checking accuracy on the val set\n",
            "Got 394 / 1000 correct (39.40%)\n",
            "\n",
            "Iteration 500, loss = 1.5765\n",
            "Checking accuracy on the val set\n",
            "Got 426 / 1000 correct (42.60%)\n",
            "\n",
            "Iteration 600, loss = 1.6717\n",
            "Checking accuracy on the val set\n",
            "Got 449 / 1000 correct (44.90%)\n",
            "\n",
            "Iteration 700, loss = 1.5537\n",
            "Checking accuracy on the val set\n",
            "Got 411 / 1000 correct (41.10%)\n",
            "\n"
          ]
        }
      ],
      "source": [
        "hidden_layer_size = 4000\n",
        "learning_rate = 1e-2\n",
        "\n",
        "w1 = random_weight((3 * 32 * 32, hidden_layer_size))\n",
        "w2 = random_weight((hidden_layer_size, 10))\n",
        "\n",
        "train_part2(two_layer_fc, [w1, w2], learning_rate)"
      ]
    },
    {
      "cell_type": "markdown",
      "metadata": {
        "id": "7-25oIzvXwj3"
      },
      "source": [
        "### BareBones PyTorch: Training a ConvNet\n",
        "\n",
        "In the below you should use the functions defined above to train a three-layer convolutional network on CIFAR. The network should have the following architecture:\n",
        "\n",
        "1. Convolutional layer (with bias) with 32 5x5 filters, with zero-padding of 2\n",
        "2. ReLU\n",
        "3. Convolutional layer (with bias) with 16 3x3 filters, with zero-padding of 1\n",
        "4. ReLU\n",
        "5. Fully-connected layer (with bias) to compute scores for 10 classes\n",
        "\n",
        "You should initialize your weight matrices using the `random_weight` function defined above, and you should initialize your bias vectors using the `zero_weight` function above.\n",
        "\n",
        "You don't need to tune any hyperparameters, but if everything works correctly you should achieve an accuracy above 42% after one epoch."
      ]
    },
    {
      "cell_type": "code",
      "execution_count": 16,
      "metadata": {
        "test": "barebones_accuracy",
        "id": "Crf5qX7kXwj3",
        "colab": {
          "base_uri": "https://localhost:8080/"
        },
        "outputId": "083425da-459f-43be-a2ca-2bcf6446d784"
      },
      "outputs": [
        {
          "output_type": "stream",
          "name": "stdout",
          "text": [
            "Iteration 0, loss = 3.1225\n",
            "Checking accuracy on the val set\n",
            "Got 116 / 1000 correct (11.60%)\n",
            "\n",
            "Iteration 100, loss = 1.8774\n",
            "Checking accuracy on the val set\n",
            "Got 374 / 1000 correct (37.40%)\n",
            "\n",
            "Iteration 200, loss = 1.5712\n",
            "Checking accuracy on the val set\n",
            "Got 424 / 1000 correct (42.40%)\n",
            "\n",
            "Iteration 300, loss = 1.5897\n",
            "Checking accuracy on the val set\n",
            "Got 466 / 1000 correct (46.60%)\n",
            "\n",
            "Iteration 400, loss = 1.4477\n",
            "Checking accuracy on the val set\n",
            "Got 501 / 1000 correct (50.10%)\n",
            "\n",
            "Iteration 500, loss = 1.3485\n",
            "Checking accuracy on the val set\n",
            "Got 496 / 1000 correct (49.60%)\n",
            "\n",
            "Iteration 600, loss = 1.4985\n",
            "Checking accuracy on the val set\n",
            "Got 514 / 1000 correct (51.40%)\n",
            "\n",
            "Iteration 700, loss = 1.1304\n",
            "Checking accuracy on the val set\n",
            "Got 515 / 1000 correct (51.50%)\n",
            "\n"
          ]
        }
      ],
      "source": [
        "learning_rate = 1e-2\n",
        "\n",
        "channel_1 = 32\n",
        "channel_2 = 16\n",
        "\n",
        "conv_w1 = None\n",
        "conv_b1 = None\n",
        "conv_w2 = None\n",
        "conv_b2 = None\n",
        "fc_w = None\n",
        "fc_b = None\n",
        "\n",
        "################################################################################\n",
        "# TODO: Initialize the parameters of a three-layer ConvNet.                    #\n",
        "################################################################################\n",
        "# *****START OF YOUR CODE (DO NOT DELETE/MODIFY THIS LINE)*****\n",
        "\n",
        "conv_w1 = random_weight((channel_1, 3, 5, 5))\n",
        "conv_b1 = zero_weight(channel_1)\n",
        "\n",
        "conv_w2 = random_weight((channel_2, channel_1, 3, 3))\n",
        "conv_b2 = zero_weight(channel_2)\n",
        "\n",
        "fc_w = random_weight((channel_2 * 32 * 32, 10))\n",
        "fc_b = zero_weight(10)\n",
        "\n",
        "# *****END OF YOUR CODE (DO NOT DELETE/MODIFY THIS LINE)*****\n",
        "################################################################################\n",
        "#                                 END OF YOUR CODE                             #\n",
        "################################################################################\n",
        "\n",
        "params = [conv_w1, conv_b1, conv_w2, conv_b2, fc_w, fc_b]\n",
        "train_part2(three_layer_convnet, params, learning_rate)"
      ]
    },
    {
      "cell_type": "markdown",
      "metadata": {
        "id": "dIw72gvjXwj3"
      },
      "source": [
        "# Part III. PyTorch Module API\n",
        "\n",
        "Barebone PyTorch requires that we track all the parameter tensors by hand. This is fine for small networks with a few tensors, but it would be extremely inconvenient and error-prone to track tens or hundreds of tensors in larger networks.\n",
        "\n",
        "PyTorch provides the `nn.Module` API for you to define arbitrary network architectures, while tracking every learnable parameters for you. In Part II, we implemented SGD ourselves. PyTorch also provides the `torch.optim` package that implements all the common optimizers, such as RMSProp, Adagrad, and Adam. It even supports approximate second-order methods like L-BFGS! You can refer to the [doc](http://pytorch.org/docs/master/optim.html) for the exact specifications of each optimizer.\n",
        "\n",
        "To use the Module API, follow the steps below:\n",
        "\n",
        "1. Subclass `nn.Module`. Give your network class an intuitive name like `TwoLayerFC`. \n",
        "\n",
        "2. In the constructor `__init__()`, define all the layers you need as class attributes. Layer objects like `nn.Linear` and `nn.Conv2d` are themselves `nn.Module` subclasses and contain learnable parameters, so that you don't have to instantiate the raw tensors yourself. `nn.Module` will track these internal parameters for you. Refer to the [doc](http://pytorch.org/docs/master/nn.html) to learn more about the dozens of builtin layers. **Warning**: don't forget to call the `super().__init__()` first!\n",
        "\n",
        "3. In the `forward()` method, define the *connectivity* of your network. You should use the attributes defined in `__init__` as function calls that take tensor as input and output the \"transformed\" tensor. Do *not* create any new layers with learnable parameters in `forward()`! All of them must be declared upfront in `__init__`. \n",
        "\n",
        "After you define your Module subclass, you can instantiate it as an object and call it just like the NN forward function in part II.\n",
        "\n",
        "### Module API: Two-Layer Network\n",
        "Here is a concrete example of a 2-layer fully connected network:"
      ]
    },
    {
      "cell_type": "code",
      "execution_count": 17,
      "metadata": {
        "id": "fkanD6QUXwj4",
        "colab": {
          "base_uri": "https://localhost:8080/"
        },
        "outputId": "e24a203e-8565-48d1-eea8-adfa848b7d1b"
      },
      "outputs": [
        {
          "output_type": "stream",
          "name": "stdout",
          "text": [
            "torch.Size([64, 10])\n"
          ]
        }
      ],
      "source": [
        "class TwoLayerFC(nn.Module):\n",
        "    def __init__(self, input_size, hidden_size, num_classes):\n",
        "        super().__init__()\n",
        "        # assign layer objects to class attributes\n",
        "        self.fc1 = nn.Linear(input_size, hidden_size)\n",
        "        # nn.init package contains convenient initialization methods\n",
        "        # http://pytorch.org/docs/master/nn.html#torch-nn-init \n",
        "        nn.init.kaiming_normal_(self.fc1.weight)\n",
        "        self.fc2 = nn.Linear(hidden_size, num_classes)\n",
        "        nn.init.kaiming_normal_(self.fc2.weight)\n",
        "    \n",
        "    def forward(self, x):\n",
        "        # forward always defines connectivity\n",
        "        x = flatten(x)\n",
        "        scores = self.fc2(F.relu(self.fc1(x)))\n",
        "        return scores\n",
        "\n",
        "def test_TwoLayerFC():\n",
        "    input_size = 50\n",
        "    x = torch.zeros((64, input_size), dtype=dtype)  # minibatch size 64, feature dimension 50\n",
        "    model = TwoLayerFC(input_size, 42, 10)\n",
        "    scores = model(x)\n",
        "    print(scores.size())  # you should see [64, 10]\n",
        "test_TwoLayerFC()"
      ]
    },
    {
      "cell_type": "markdown",
      "metadata": {
        "id": "XoQmFaOyXwj4"
      },
      "source": [
        "### Module API: Three-Layer ConvNet\n",
        "It's your turn to implement a 3-layer ConvNet followed by a fully connected layer. The network architecture should be the same as in Part II:\n",
        "\n",
        "1. Convolutional layer with `channel_1` 5x5 filters with zero-padding of 2\n",
        "2. ReLU\n",
        "3. Convolutional layer with `channel_2` 3x3 filters with zero-padding of 1\n",
        "4. ReLU\n",
        "5. Fully-connected layer to `num_classes` classes\n",
        "\n",
        "You should initialize the weight matrices of the model using the Kaiming normal initialization method.\n",
        "\n",
        "**HINT**: http://pytorch.org/docs/stable/nn.html#conv2d\n",
        "\n",
        "After you implement the three-layer ConvNet, the `test_ThreeLayerConvNet` function will run your implementation; it should print `(64, 10)` for the shape of the output scores."
      ]
    },
    {
      "cell_type": "code",
      "execution_count": 18,
      "metadata": {
        "test": "module_output_shape",
        "id": "8C3DaDz2Xwj4",
        "colab": {
          "base_uri": "https://localhost:8080/"
        },
        "outputId": "aa231209-219a-48b2-a5f8-14d1ab28cba5"
      },
      "outputs": [
        {
          "output_type": "stream",
          "name": "stdout",
          "text": [
            "torch.Size([64, 10])\n"
          ]
        }
      ],
      "source": [
        "class ThreeLayerConvNet(nn.Module):\n",
        "    def __init__(self, in_channel, channel_1, channel_2, num_classes):\n",
        "        super().__init__()\n",
        "        ########################################################################\n",
        "        # TODO: Set up the layers you need for a three-layer ConvNet with the  #\n",
        "        # architecture defined above.                                          #\n",
        "        ########################################################################\n",
        "        # *****START OF YOUR CODE (DO NOT DELETE/MODIFY THIS LINE)*****\n",
        "\n",
        "        self.conv2d_1 = nn.Conv2d(in_channel, channel_1, 5, padding=2)\n",
        "        nn.init.kaiming_normal_(self.conv2d_1.weight)\n",
        "\n",
        "        self.conv2d_2 = nn.Conv2d(channel_1, channel_2, 3, padding=1)\n",
        "        nn.init.kaiming_normal_(self.conv2d_2.weight)\n",
        "\n",
        "        self.fc = nn.Linear(32 * 32 * channel_2, num_classes)\n",
        "        nn.init.kaiming_normal_(self.fc.weight)\n",
        "\n",
        "        # *****END OF YOUR CODE (DO NOT DELETE/MODIFY THIS LINE)*****\n",
        "        ########################################################################\n",
        "        #                          END OF YOUR CODE                            #       \n",
        "        ########################################################################\n",
        "\n",
        "    def forward(self, x):\n",
        "        scores = None\n",
        "        ########################################################################\n",
        "        # TODO: Implement the forward function for a 3-layer ConvNet. you      #\n",
        "        # should use the layers you defined in __init__ and specify the        #\n",
        "        # connectivity of those layers in forward()                            #\n",
        "        ########################################################################\n",
        "        # *****START OF YOUR CODE (DO NOT DELETE/MODIFY THIS LINE)*****\n",
        "\n",
        "        first_layer = F.relu(self.conv2d_1(x))\n",
        "        second_layer = flatten(F.relu(self.conv2d_2(first_layer)))\n",
        "        third_layer = self.fc(second_layer)\n",
        "        scores = third_layer\n",
        "\n",
        "        # *****END OF YOUR CODE (DO NOT DELETE/MODIFY THIS LINE)*****\n",
        "        ########################################################################\n",
        "        #                             END OF YOUR CODE                         #\n",
        "        ########################################################################\n",
        "        return scores\n",
        "\n",
        "\n",
        "def test_ThreeLayerConvNet():\n",
        "    x = torch.zeros((64, 3, 32, 32), dtype=dtype)  # minibatch size 64, image size [3, 32, 32]\n",
        "    model = ThreeLayerConvNet(in_channel=3, channel_1=12, channel_2=8, num_classes=10)\n",
        "    scores = model(x)\n",
        "    print(scores.size())  # you should see [64, 10]\n",
        "test_ThreeLayerConvNet()"
      ]
    },
    {
      "cell_type": "markdown",
      "metadata": {
        "id": "aQE89OEvXwj5"
      },
      "source": [
        "### Module API: Check Accuracy\n",
        "Given the validation or test set, we can check the classification accuracy of a neural network. \n",
        "\n",
        "This version is slightly different from the one in part II. You don't manually pass in the parameters anymore."
      ]
    },
    {
      "cell_type": "code",
      "execution_count": 19,
      "metadata": {
        "id": "vx6oJGbaXwj5"
      },
      "outputs": [],
      "source": [
        "def check_accuracy_part34(loader, model):\n",
        "    if loader.dataset.train:\n",
        "        print('Checking accuracy on validation set')\n",
        "    else:\n",
        "        print('Checking accuracy on test set')   \n",
        "    num_correct = 0\n",
        "    num_samples = 0\n",
        "    model.eval()  # set model to evaluation mode\n",
        "    with torch.no_grad():\n",
        "        for x, y in loader:\n",
        "            x = x.to(device=device, dtype=dtype)  # move to device, e.g. GPU\n",
        "            y = y.to(device=device, dtype=torch.long)\n",
        "            scores = model(x)\n",
        "            _, preds = scores.max(1)\n",
        "            num_correct += (preds == y).sum()\n",
        "            num_samples += preds.size(0)\n",
        "        acc = float(num_correct) / num_samples\n",
        "        print('Got %d / %d correct (%.2f)' % (num_correct, num_samples, 100 * acc))"
      ]
    },
    {
      "cell_type": "markdown",
      "metadata": {
        "id": "QkbsOUcpXwj5"
      },
      "source": [
        "### Module API: Training Loop\n",
        "We also use a slightly different training loop. Rather than updating the values of the weights ourselves, we use an Optimizer object from the `torch.optim` package, which abstract the notion of an optimization algorithm and provides implementations of most of the algorithms commonly used to optimize neural networks."
      ]
    },
    {
      "cell_type": "code",
      "execution_count": 20,
      "metadata": {
        "id": "PC5l_ryRXwj5"
      },
      "outputs": [],
      "source": [
        "def train_part34(model, optimizer, epochs=1):\n",
        "    \"\"\"\n",
        "    Train a model on CIFAR-10 using the PyTorch Module API.\n",
        "    \n",
        "    Inputs:\n",
        "    - model: A PyTorch Module giving the model to train.\n",
        "    - optimizer: An Optimizer object we will use to train the model\n",
        "    - epochs: (Optional) A Python integer giving the number of epochs to train for\n",
        "    \n",
        "    Returns: Nothing, but prints model accuracies during training.\n",
        "    \"\"\"\n",
        "    model = model.to(device=device)  # move the model parameters to CPU/GPU\n",
        "    for e in range(epochs):\n",
        "        for t, (x, y) in enumerate(loader_train):\n",
        "            model.train()  # put model to training mode\n",
        "            x = x.to(device=device, dtype=dtype)  # move to device, e.g. GPU\n",
        "            y = y.to(device=device, dtype=torch.long)\n",
        "\n",
        "            scores = model(x)\n",
        "            loss = F.cross_entropy(scores, y)\n",
        "\n",
        "            # Zero out all of the gradients for the variables which the optimizer\n",
        "            # will update.\n",
        "            optimizer.zero_grad()\n",
        "\n",
        "            # This is the backwards pass: compute the gradient of the loss with\n",
        "            # respect to each  parameter of the model.\n",
        "            loss.backward()\n",
        "\n",
        "            # Actually update the parameters of the model using the gradients\n",
        "            # computed by the backwards pass.\n",
        "            optimizer.step()\n",
        "\n",
        "            if t % print_every == 0:\n",
        "                print('Iteration %d, loss = %.4f' % (t, loss.item()))\n",
        "                check_accuracy_part34(loader_val, model)\n",
        "                print()"
      ]
    },
    {
      "cell_type": "markdown",
      "metadata": {
        "id": "fkZykXmlXwj6"
      },
      "source": [
        "### Module API: Train a Two-Layer Network\n",
        "Now we are ready to run the training loop. In contrast to part II, we don't explicitly allocate parameter tensors anymore.\n",
        "\n",
        "Simply pass the input size, hidden layer size, and number of classes (i.e. output size) to the constructor of `TwoLayerFC`. \n",
        "\n",
        "You also need to define an optimizer that tracks all the learnable parameters inside `TwoLayerFC`.\n",
        "\n",
        "You don't need to tune any hyperparameters, but you should see model accuracies above 40% after training for one epoch."
      ]
    },
    {
      "cell_type": "code",
      "execution_count": 21,
      "metadata": {
        "id": "k1obr6xLXwj6",
        "colab": {
          "base_uri": "https://localhost:8080/"
        },
        "outputId": "e4c3c248-c313-4a66-d004-02149627ff7a"
      },
      "outputs": [
        {
          "output_type": "stream",
          "name": "stdout",
          "text": [
            "Iteration 0, loss = 3.2914\n",
            "Checking accuracy on validation set\n",
            "Got 163 / 1000 correct (16.30)\n",
            "\n",
            "Iteration 100, loss = 2.5144\n",
            "Checking accuracy on validation set\n",
            "Got 317 / 1000 correct (31.70)\n",
            "\n",
            "Iteration 200, loss = 2.2981\n",
            "Checking accuracy on validation set\n",
            "Got 351 / 1000 correct (35.10)\n",
            "\n",
            "Iteration 300, loss = 1.9855\n",
            "Checking accuracy on validation set\n",
            "Got 389 / 1000 correct (38.90)\n",
            "\n",
            "Iteration 400, loss = 2.1062\n",
            "Checking accuracy on validation set\n",
            "Got 321 / 1000 correct (32.10)\n",
            "\n",
            "Iteration 500, loss = 2.3249\n",
            "Checking accuracy on validation set\n",
            "Got 416 / 1000 correct (41.60)\n",
            "\n",
            "Iteration 600, loss = 1.4700\n",
            "Checking accuracy on validation set\n",
            "Got 446 / 1000 correct (44.60)\n",
            "\n",
            "Iteration 700, loss = 1.5703\n",
            "Checking accuracy on validation set\n",
            "Got 437 / 1000 correct (43.70)\n",
            "\n"
          ]
        }
      ],
      "source": [
        "hidden_layer_size = 4000\n",
        "learning_rate = 1e-2\n",
        "model = TwoLayerFC(3 * 32 * 32, hidden_layer_size, 10)\n",
        "optimizer = optim.SGD(model.parameters(), lr=learning_rate)\n",
        "\n",
        "train_part34(model, optimizer, epochs=1)"
      ]
    },
    {
      "cell_type": "markdown",
      "metadata": {
        "id": "VgLgGHm4Xwj6"
      },
      "source": [
        "### Module API: Train a Three-Layer ConvNet\n",
        "You should now use the Module API to train a three-layer ConvNet on CIFAR. This should look very similar to training the two-layer network! You don't need to tune any hyperparameters, but you should achieve above above 45% after training for one epoch.\n",
        "\n",
        "You should train the model using stochastic gradient descent without momentum."
      ]
    },
    {
      "cell_type": "code",
      "execution_count": 22,
      "metadata": {
        "test": "module_accuracy",
        "id": "W5m6JMXUXwj6",
        "colab": {
          "base_uri": "https://localhost:8080/"
        },
        "outputId": "4164ef07-94b0-4606-c403-7cd20fefff13"
      },
      "outputs": [
        {
          "output_type": "stream",
          "name": "stdout",
          "text": [
            "Iteration 0, loss = 3.9226\n",
            "Checking accuracy on validation set\n",
            "Got 116 / 1000 correct (11.60)\n",
            "\n",
            "Iteration 100, loss = 1.9973\n",
            "Checking accuracy on validation set\n",
            "Got 354 / 1000 correct (35.40)\n",
            "\n",
            "Iteration 200, loss = 1.5908\n",
            "Checking accuracy on validation set\n",
            "Got 411 / 1000 correct (41.10)\n",
            "\n",
            "Iteration 300, loss = 1.4414\n",
            "Checking accuracy on validation set\n",
            "Got 417 / 1000 correct (41.70)\n",
            "\n",
            "Iteration 400, loss = 1.7091\n",
            "Checking accuracy on validation set\n",
            "Got 447 / 1000 correct (44.70)\n",
            "\n",
            "Iteration 500, loss = 1.4762\n",
            "Checking accuracy on validation set\n",
            "Got 445 / 1000 correct (44.50)\n",
            "\n",
            "Iteration 600, loss = 1.6367\n",
            "Checking accuracy on validation set\n",
            "Got 481 / 1000 correct (48.10)\n",
            "\n",
            "Iteration 700, loss = 1.3811\n",
            "Checking accuracy on validation set\n",
            "Got 486 / 1000 correct (48.60)\n",
            "\n"
          ]
        }
      ],
      "source": [
        "learning_rate = 3e-3\n",
        "channel_1 = 32\n",
        "channel_2 = 16\n",
        "\n",
        "model = None\n",
        "optimizer = None\n",
        "################################################################################\n",
        "# TODO: Instantiate your ThreeLayerConvNet model and a corresponding optimizer #\n",
        "################################################################################\n",
        "# *****START OF YOUR CODE (DO NOT DELETE/MODIFY THIS LINE)*****\n",
        "\n",
        "model = ThreeLayerConvNet(3, channel_1, channel_2, 10)\n",
        "optimizer = optim.SGD(model.parameters(), lr=learning_rate)\n",
        "\n",
        "# *****END OF YOUR CODE (DO NOT DELETE/MODIFY THIS LINE)*****\n",
        "################################################################################\n",
        "#                                 END OF YOUR CODE                             #\n",
        "################################################################################\n",
        "\n",
        "train_part34(model, optimizer)"
      ]
    },
    {
      "cell_type": "markdown",
      "metadata": {
        "id": "q3X22xL8Xwj7"
      },
      "source": [
        "# Part IV. PyTorch Sequential API\n",
        "\n",
        "Part III introduced the PyTorch Module API, which allows you to define arbitrary learnable layers and their connectivity. \n",
        "\n",
        "For simple models like a stack of feed forward layers, you still need to go through 3 steps: subclass `nn.Module`, assign layers to class attributes in `__init__`, and call each layer one by one in `forward()`. Is there a more convenient way? \n",
        "\n",
        "Fortunately, PyTorch provides a container Module called `nn.Sequential`, which merges the above steps into one. It is not as flexible as `nn.Module`, because you cannot specify more complex topology than a feed-forward stack, but it's good enough for many use cases.\n",
        "\n",
        "### Sequential API: Two-Layer Network\n",
        "Let's see how to rewrite our two-layer fully connected network example with `nn.Sequential`, and train it using the training loop defined above.\n",
        "\n",
        "Again, you don't need to tune any hyperparameters here, but you shoud achieve above 40% accuracy after one epoch of training."
      ]
    },
    {
      "cell_type": "code",
      "execution_count": 23,
      "metadata": {
        "id": "Wxp-F7VKXwj7",
        "colab": {
          "base_uri": "https://localhost:8080/"
        },
        "outputId": "7829deee-98d1-4c56-d774-7897bf816a56"
      },
      "outputs": [
        {
          "output_type": "stream",
          "name": "stdout",
          "text": [
            "Iteration 0, loss = 2.2765\n",
            "Checking accuracy on validation set\n",
            "Got 187 / 1000 correct (18.70)\n",
            "\n",
            "Iteration 100, loss = 1.7663\n",
            "Checking accuracy on validation set\n",
            "Got 376 / 1000 correct (37.60)\n",
            "\n",
            "Iteration 200, loss = 1.7042\n",
            "Checking accuracy on validation set\n",
            "Got 421 / 1000 correct (42.10)\n",
            "\n",
            "Iteration 300, loss = 1.7936\n",
            "Checking accuracy on validation set\n",
            "Got 413 / 1000 correct (41.30)\n",
            "\n",
            "Iteration 400, loss = 2.0737\n",
            "Checking accuracy on validation set\n",
            "Got 423 / 1000 correct (42.30)\n",
            "\n",
            "Iteration 500, loss = 1.7680\n",
            "Checking accuracy on validation set\n",
            "Got 435 / 1000 correct (43.50)\n",
            "\n",
            "Iteration 600, loss = 1.5796\n",
            "Checking accuracy on validation set\n",
            "Got 438 / 1000 correct (43.80)\n",
            "\n",
            "Iteration 700, loss = 1.4275\n",
            "Checking accuracy on validation set\n",
            "Got 467 / 1000 correct (46.70)\n",
            "\n"
          ]
        }
      ],
      "source": [
        "# We need to wrap `flatten` function in a module in order to stack it\n",
        "# in nn.Sequential\n",
        "class Flatten(nn.Module):\n",
        "    def forward(self, x):\n",
        "        return flatten(x)\n",
        "\n",
        "hidden_layer_size = 4000\n",
        "learning_rate = 1e-2\n",
        "\n",
        "model = nn.Sequential(\n",
        "    Flatten(),\n",
        "    nn.Linear(3 * 32 * 32, hidden_layer_size),\n",
        "    nn.ReLU(),\n",
        "    nn.Linear(hidden_layer_size, 10),\n",
        ")\n",
        "\n",
        "# you can use Nesterov momentum in optim.SGD\n",
        "optimizer = optim.SGD(model.parameters(), lr=learning_rate,\n",
        "                     momentum=0.9, nesterov=True)\n",
        "\n",
        "train_part34(model, optimizer)"
      ]
    },
    {
      "cell_type": "markdown",
      "metadata": {
        "id": "GXnJ5yHWXwj7"
      },
      "source": [
        "### Sequential API: Three-Layer ConvNet\n",
        "Here you should use `nn.Sequential` to define and train a three-layer ConvNet with the same architecture we used in Part III:\n",
        "\n",
        "1. Convolutional layer (with bias) with 32 5x5 filters, with zero-padding of 2\n",
        "2. ReLU\n",
        "3. Convolutional layer (with bias) with 16 3x3 filters, with zero-padding of 1\n",
        "4. ReLU\n",
        "5. Fully-connected layer (with bias) to compute scores for 10 classes\n",
        "\n",
        "You can use the default PyTorch weight initialization.\n",
        "\n",
        "You should optimize your model using stochastic gradient descent with Nesterov momentum 0.9.\n",
        "\n",
        "Again, you don't need to tune any hyperparameters but you should see accuracy above 55% after one epoch of training."
      ]
    },
    {
      "cell_type": "code",
      "execution_count": 24,
      "metadata": {
        "test": "sequential_accuracy",
        "id": "d3dNbXooXwj7",
        "colab": {
          "base_uri": "https://localhost:8080/"
        },
        "outputId": "354015a4-0a9c-40f5-bad7-36e32ac3beb9"
      },
      "outputs": [
        {
          "output_type": "stream",
          "name": "stdout",
          "text": [
            "Iteration 0, loss = 2.3139\n",
            "Checking accuracy on validation set\n",
            "Got 119 / 1000 correct (11.90)\n",
            "\n",
            "Iteration 100, loss = 1.6394\n",
            "Checking accuracy on validation set\n",
            "Got 451 / 1000 correct (45.10)\n",
            "\n",
            "Iteration 200, loss = 1.4340\n",
            "Checking accuracy on validation set\n",
            "Got 489 / 1000 correct (48.90)\n",
            "\n",
            "Iteration 300, loss = 0.9692\n",
            "Checking accuracy on validation set\n",
            "Got 510 / 1000 correct (51.00)\n",
            "\n",
            "Iteration 400, loss = 1.2306\n",
            "Checking accuracy on validation set\n",
            "Got 529 / 1000 correct (52.90)\n",
            "\n",
            "Iteration 500, loss = 1.3247\n",
            "Checking accuracy on validation set\n",
            "Got 562 / 1000 correct (56.20)\n",
            "\n",
            "Iteration 600, loss = 1.1843\n",
            "Checking accuracy on validation set\n",
            "Got 575 / 1000 correct (57.50)\n",
            "\n",
            "Iteration 700, loss = 0.9510\n",
            "Checking accuracy on validation set\n",
            "Got 545 / 1000 correct (54.50)\n",
            "\n"
          ]
        }
      ],
      "source": [
        "channel_1 = 32\n",
        "channel_2 = 16\n",
        "learning_rate = 1e-2\n",
        "\n",
        "model = None\n",
        "optimizer = None\n",
        "\n",
        "################################################################################\n",
        "# TODO: Rewrite the 2-layer ConvNet with bias from Part III with the           #\n",
        "# Sequential API.                                                              #\n",
        "################################################################################\n",
        "# *****START OF YOUR CODE (DO NOT DELETE/MODIFY THIS LINE)*****\n",
        "\n",
        "model = nn.Sequential(\n",
        "    nn.Conv2d(3, channel_1, 5, padding=2),\n",
        "    nn.ReLU(),\n",
        "    nn.Conv2d(channel_1, channel_2, 3, padding=1),\n",
        "    nn.ReLU(),\n",
        "    Flatten(),\n",
        "    nn.Linear(channel_2 * 32 * 32, 10)\n",
        ")\n",
        "optimizer = optim.SGD(model.parameters(), lr=learning_rate, momentum=0.9, nesterov=True)\n",
        "\n",
        "# *****END OF YOUR CODE (DO NOT DELETE/MODIFY THIS LINE)*****\n",
        "################################################################################\n",
        "#                                 END OF YOUR CODE                             #\n",
        "################################################################################\n",
        "\n",
        "train_part34(model, optimizer)"
      ]
    },
    {
      "cell_type": "markdown",
      "metadata": {
        "id": "VQW3LMeNXwj8"
      },
      "source": [
        "# Part V. CIFAR-10 open-ended challenge\n",
        "\n",
        "In this section, you can experiment with whatever ConvNet architecture you'd like on CIFAR-10. \n",
        "\n",
        "Now it's your job to experiment with architectures, hyperparameters, loss functions, and optimizers to train a model that achieves **at least 70%** accuracy on the CIFAR-10 **validation** set within 10 epochs. You can use the check_accuracy and train functions from above. You can use either `nn.Module` or `nn.Sequential` API. \n",
        "\n",
        "Describe what you did at the end of this notebook.\n",
        "\n",
        "Here are the official API documentation for each component. One note: what we call in the class \"spatial batch norm\" is called \"BatchNorm2D\" in PyTorch.\n",
        "\n",
        "* Layers in torch.nn package: http://pytorch.org/docs/stable/nn.html\n",
        "* Activations: http://pytorch.org/docs/stable/nn.html#non-linear-activations\n",
        "* Loss functions: http://pytorch.org/docs/stable/nn.html#loss-functions\n",
        "* Optimizers: http://pytorch.org/docs/stable/optim.html\n",
        "\n",
        "\n",
        "### Things you might try:\n",
        "- **Filter size**: Above we used 5x5; would smaller filters be more efficient?\n",
        "- **Number of filters**: Above we used 32 filters. Do more or fewer do better?\n",
        "- **Pooling vs Strided Convolution**: Do you use max pooling or just stride convolutions?\n",
        "- **Batch normalization**: Try adding spatial batch normalization after convolution layers and vanilla batch normalization after affine layers. Do your networks train faster?\n",
        "- **Network architecture**: The network above has two layers of trainable parameters. Can you do better with a deep network? Good architectures to try include:\n",
        "    - [conv-relu-pool]xN -> [affine]xM -> [softmax or SVM]\n",
        "    - [conv-relu-conv-relu-pool]xN -> [affine]xM -> [softmax or SVM]\n",
        "    - [batchnorm-relu-conv]xN -> [affine]xM -> [softmax or SVM]\n",
        "- **Global Average Pooling**: Instead of flattening and then having multiple affine layers, perform convolutions until your image gets small (7x7 or so) and then perform an average pooling operation to get to a 1x1 image picture (1, 1 , Filter#), which is then reshaped into a (Filter#) vector. This is used in [Google's Inception Network](https://arxiv.org/abs/1512.00567) (See Table 1 for their architecture).\n",
        "- **Regularization**: Add l2 weight regularization, or perhaps use Dropout.\n",
        "\n",
        "### Tips for training\n",
        "For each network architecture that you try, you should tune the learning rate and other hyperparameters. When doing this there are a couple important things to keep in mind:\n",
        "\n",
        "- If the parameters are working well, you should see improvement within a few hundred iterations\n",
        "- Remember the coarse-to-fine approach for hyperparameter tuning: start by testing a large range of hyperparameters for just a few training iterations to find the combinations of parameters that are working at all.\n",
        "- Once you have found some sets of parameters that seem to work, search more finely around these parameters. You may need to train for more epochs.\n",
        "- You should use the validation set for hyperparameter search, and save your test set for evaluating your architecture on the best parameters as selected by the validation set.\n",
        "\n",
        "### Going above and beyond\n",
        "If you are feeling adventurous there are many other features you can implement to try and improve your performance. You are **not required** to implement any of these, but don't miss the fun if you have time!\n",
        "\n",
        "- Alternative optimizers: you can try Adam, Adagrad, RMSprop, etc.\n",
        "- Alternative activation functions such as leaky ReLU, parametric ReLU, ELU, or MaxOut.\n",
        "- Model ensembles\n",
        "- Data augmentation\n",
        "- New Architectures\n",
        "  - [ResNets](https://arxiv.org/abs/1512.03385) where the input from the previous layer is added to the output.\n",
        "  - [DenseNets](https://arxiv.org/abs/1608.06993) where inputs into previous layers are concatenated together.\n",
        "  - [This blog has an in-depth overview](https://chatbotslife.com/resnets-highwaynets-and-densenets-oh-my-9bb15918ee32)\n",
        "\n",
        "### Have fun and happy training! "
      ]
    },
    {
      "cell_type": "code",
      "source": [
        "# Write my own check accuracy function.\n",
        "def check_accuracy(loader, model):\n",
        "  if loader.dataset.train:\n",
        "      print('Checking accuracy on validation set')\n",
        "  else:\n",
        "      print('Checking accuracy on test set')   \n",
        "  num_correct = 0\n",
        "  num_samples = 0\n",
        "  model.eval()  # set model to evaluation mode\n",
        "  with torch.no_grad():\n",
        "    for x, y in loader:\n",
        "      x = x.to(device=device, dtype=dtype)  # move to device, e.g. GPU\n",
        "      y = y.to(device=device, dtype=torch.long)\n",
        "      scores = model(x)\n",
        "      _, preds = scores.max(1)\n",
        "      num_correct += (preds == y).sum()\n",
        "      num_samples += preds.size(0)\n",
        "    acc = float(num_correct) / num_samples\n",
        "    print('Got %d / %d correct (%.2f)' % (num_correct, num_samples, 100 * acc))\n",
        "    return acc"
      ],
      "metadata": {
        "id": "zvcUgeTdbWcL"
      },
      "execution_count": 25,
      "outputs": []
    },
    {
      "cell_type": "code",
      "source": [
        "# Write my own training function.\n",
        "def train(model, optimizer, epochs=1):\n",
        "  \"\"\"\n",
        "    Train a model on CIFAR-10 using the PyTorch Module API.\n",
        "    \n",
        "    Inputs:\n",
        "    - model: A PyTorch Module giving the model to train.\n",
        "    - optimizer: An Optimizer object we will use to train the model\n",
        "    - epochs: (Optional) A Python integer giving the number of epochs to train for\n",
        "    \n",
        "    Returns: Validation Accuracies\n",
        "    \"\"\"\n",
        "  acc_history = []\n",
        "  model = model.to(device=device)\n",
        "  for e in range(epochs):\n",
        "    for t, (x, y) in enumerate(loader_train):\n",
        "      model.train()  # put model to training mode\n",
        "      x = x.to(device=device, dtype=dtype)  # move to device, e.g. GPU\n",
        "      y = y.to(device=device, dtype=torch.long)\n",
        "\n",
        "      scores = model(x)\n",
        "      loss = F.cross_entropy(scores, y)\n",
        "\n",
        "      # Zero out all of the gradients for the variables which the optimizer\n",
        "      # will update.\n",
        "      optimizer.zero_grad()\n",
        "\n",
        "      # This is the backwards pass: compute the gradient of the loss with\n",
        "      # respect to each  parameter of the model.\n",
        "      loss.backward()\n",
        "\n",
        "      # Actually update the parameters of the model using the gradients\n",
        "      # computed by the backwards pass.\n",
        "      optimizer.step()\n",
        "    print(f\"Epoch{e}\")\n",
        "    acc = check_accuracy(loader_val, model)\n",
        "    acc_history.append(acc)\n",
        "  return acc_history\n"
      ],
      "metadata": {
        "id": "7qbImc6PYXmk"
      },
      "execution_count": 26,
      "outputs": []
    },
    {
      "cell_type": "code",
      "execution_count": 27,
      "metadata": {
        "test": "open_ended_accuracy",
        "id": "gY_MF059Xwj8",
        "colab": {
          "base_uri": "https://localhost:8080/",
          "height": 1000
        },
        "outputId": "77d9ad89-a94a-4850-c247-adc4ee25fb2a"
      },
      "outputs": [
        {
          "output_type": "stream",
          "name": "stdout",
          "text": [
            "using learning rate: 0.00010060276898573041\n",
            "Epoch0\n",
            "Checking accuracy on validation set\n",
            "Got 575 / 1000 correct (57.50)\n",
            "Epoch1\n",
            "Checking accuracy on validation set\n",
            "Got 631 / 1000 correct (63.10)\n",
            "Epoch2\n",
            "Checking accuracy on validation set\n",
            "Got 643 / 1000 correct (64.30)\n",
            "Epoch3\n",
            "Checking accuracy on validation set\n",
            "Got 662 / 1000 correct (66.20)\n",
            "Epoch4\n",
            "Checking accuracy on validation set\n",
            "Got 669 / 1000 correct (66.90)\n",
            "Epoch5\n",
            "Checking accuracy on validation set\n",
            "Got 683 / 1000 correct (68.30)\n",
            "Epoch6\n",
            "Checking accuracy on validation set\n",
            "Got 693 / 1000 correct (69.30)\n",
            "Epoch7\n",
            "Checking accuracy on validation set\n",
            "Got 690 / 1000 correct (69.00)\n",
            "Epoch8\n",
            "Checking accuracy on validation set\n",
            "Got 699 / 1000 correct (69.90)\n",
            "Epoch9\n",
            "Checking accuracy on validation set\n",
            "Got 706 / 1000 correct (70.60)\n",
            "using learning rate: 0.00014381947207860193\n",
            "Epoch0\n",
            "Checking accuracy on validation set\n",
            "Got 669 / 1000 correct (66.90)\n",
            "Epoch1\n",
            "Checking accuracy on validation set\n",
            "Got 693 / 1000 correct (69.30)\n",
            "Epoch2\n",
            "Checking accuracy on validation set\n",
            "Got 698 / 1000 correct (69.80)\n",
            "Epoch3\n",
            "Checking accuracy on validation set\n",
            "Got 713 / 1000 correct (71.30)\n",
            "Epoch4\n",
            "Checking accuracy on validation set\n",
            "Got 725 / 1000 correct (72.50)\n",
            "Epoch5\n",
            "Checking accuracy on validation set\n",
            "Got 713 / 1000 correct (71.30)\n",
            "Epoch6\n",
            "Checking accuracy on validation set\n",
            "Got 723 / 1000 correct (72.30)\n",
            "Epoch7\n",
            "Checking accuracy on validation set\n",
            "Got 720 / 1000 correct (72.00)\n",
            "Epoch8\n",
            "Checking accuracy on validation set\n",
            "Got 730 / 1000 correct (73.00)\n",
            "Epoch9\n",
            "Checking accuracy on validation set\n",
            "Got 722 / 1000 correct (72.20)\n",
            "using learning rate: 0.00018655657910325607\n",
            "Epoch0\n",
            "Checking accuracy on validation set\n",
            "Got 703 / 1000 correct (70.30)\n",
            "Epoch1\n",
            "Checking accuracy on validation set\n",
            "Got 721 / 1000 correct (72.10)\n",
            "Epoch2\n",
            "Checking accuracy on validation set\n",
            "Got 725 / 1000 correct (72.50)\n",
            "Epoch3\n",
            "Checking accuracy on validation set\n",
            "Got 738 / 1000 correct (73.80)\n",
            "Epoch4\n",
            "Checking accuracy on validation set\n",
            "Got 728 / 1000 correct (72.80)\n",
            "Epoch5\n",
            "Checking accuracy on validation set\n",
            "Got 734 / 1000 correct (73.40)\n",
            "Epoch6\n",
            "Checking accuracy on validation set\n",
            "Got 716 / 1000 correct (71.60)\n",
            "Epoch7\n",
            "Checking accuracy on validation set\n",
            "Got 730 / 1000 correct (73.00)\n",
            "Epoch8\n",
            "Checking accuracy on validation set\n",
            "Got 729 / 1000 correct (72.90)\n",
            "Epoch9\n",
            "Checking accuracy on validation set\n",
            "Got 735 / 1000 correct (73.50)\n",
            "using learning rate: 0.00021734968822098997\n",
            "Epoch0\n",
            "Checking accuracy on validation set\n",
            "Got 712 / 1000 correct (71.20)\n",
            "Epoch1\n",
            "Checking accuracy on validation set\n",
            "Got 744 / 1000 correct (74.40)\n",
            "Epoch2\n",
            "Checking accuracy on validation set\n",
            "Got 740 / 1000 correct (74.00)\n",
            "Epoch3\n",
            "Checking accuracy on validation set\n",
            "Got 731 / 1000 correct (73.10)\n",
            "Epoch4\n",
            "Checking accuracy on validation set\n",
            "Got 743 / 1000 correct (74.30)\n",
            "Epoch5\n",
            "Checking accuracy on validation set\n",
            "Got 751 / 1000 correct (75.10)\n",
            "Epoch6\n",
            "Checking accuracy on validation set\n",
            "Got 728 / 1000 correct (72.80)\n",
            "Epoch7\n",
            "Checking accuracy on validation set\n",
            "Got 756 / 1000 correct (75.60)\n",
            "Epoch8\n",
            "Checking accuracy on validation set\n",
            "Got 743 / 1000 correct (74.30)\n",
            "Epoch9\n",
            "Checking accuracy on validation set\n",
            "Got 741 / 1000 correct (74.10)\n",
            "using learning rate: 0.0009648511459224855\n",
            "Epoch0\n",
            "Checking accuracy on validation set\n",
            "Got 694 / 1000 correct (69.40)\n",
            "Epoch1\n",
            "Checking accuracy on validation set\n",
            "Got 701 / 1000 correct (70.10)\n",
            "Epoch2\n",
            "Checking accuracy on validation set\n",
            "Got 707 / 1000 correct (70.70)\n",
            "Epoch3\n",
            "Checking accuracy on validation set\n",
            "Got 706 / 1000 correct (70.60)\n",
            "Epoch4\n",
            "Checking accuracy on validation set\n",
            "Got 709 / 1000 correct (70.90)\n",
            "Epoch5\n",
            "Checking accuracy on validation set\n",
            "Got 711 / 1000 correct (71.10)\n",
            "Epoch6\n",
            "Checking accuracy on validation set\n",
            "Got 705 / 1000 correct (70.50)\n",
            "Epoch7\n",
            "Checking accuracy on validation set\n",
            "Got 707 / 1000 correct (70.70)\n",
            "Epoch8\n",
            "Checking accuracy on validation set\n",
            "Got 709 / 1000 correct (70.90)\n",
            "Epoch9\n",
            "Checking accuracy on validation set\n",
            "Got 712 / 1000 correct (71.20)\n"
          ]
        },
        {
          "output_type": "display_data",
          "data": {
            "text/plain": [
              "<Figure size 720x576 with 1 Axes>"
            ],
            "image/png": "[encoded data removed]"
          },
          "metadata": {
            "needs_background": "light"
          }
        },
        {
          "output_type": "stream",
          "name": "stdout",
          "text": [
            "Epoch0\n",
            "Checking accuracy on validation set\n",
            "Got 749 / 1000 correct (74.90)\n",
            "Epoch1\n",
            "Checking accuracy on validation set\n",
            "Got 743 / 1000 correct (74.30)\n",
            "Epoch2\n",
            "Checking accuracy on validation set\n",
            "Got 737 / 1000 correct (73.70)\n",
            "Epoch3\n",
            "Checking accuracy on validation set\n",
            "Got 745 / 1000 correct (74.50)\n",
            "Epoch4\n",
            "Checking accuracy on validation set\n",
            "Got 752 / 1000 correct (75.20)\n",
            "Epoch5\n",
            "Checking accuracy on validation set\n",
            "Got 749 / 1000 correct (74.90)\n",
            "Epoch6\n",
            "Checking accuracy on validation set\n",
            "Got 749 / 1000 correct (74.90)\n",
            "Epoch7\n",
            "Checking accuracy on validation set\n",
            "Got 753 / 1000 correct (75.30)\n",
            "Epoch8\n",
            "Checking accuracy on validation set\n",
            "Got 747 / 1000 correct (74.70)\n",
            "Epoch9\n",
            "Checking accuracy on validation set\n",
            "Got 748 / 1000 correct (74.80)\n"
          ]
        },
        {
          "output_type": "execute_result",
          "data": {
            "text/plain": [
              "[0.749, 0.743, 0.737, 0.745, 0.752, 0.749, 0.749, 0.753, 0.747, 0.748]"
            ]
          },
          "metadata": {},
          "execution_count": 27
        }
      ],
      "source": [
        "################################################################################\n",
        "# TODO:                                                                        #         \n",
        "# Experiment with any architectures, optimizers, and hyperparameters.          #\n",
        "# Achieve AT LEAST 70% accuracy on the *validation set* within 10 epochs.      #\n",
        "#                                                                              #\n",
        "# Note that you can use the check_accuracy function to evaluate on either      #\n",
        "# the test set or the validation set, by passing either loader_test or         #\n",
        "# loader_val as the second argument to check_accuracy. You should not touch    #\n",
        "# the test set until you have finished your architecture and  hyperparameter   #\n",
        "# tuning, and only run the test set once at the end to report a final value.   #\n",
        "################################################################################\n",
        "model = None\n",
        "optimizer = None\n",
        "\n",
        "# *****START OF YOUR CODE (DO NOT DELETE/MODIFY THIS LINE)*****\n",
        "import matplotlib.pyplot as plt\n",
        "%matplotlib inline\n",
        "plt.rcParams['figure.figsize'] = (10.0, 8.0)\n",
        "plt.rcParams['image.interpolation'] = 'nearest'\n",
        "plt.rcParams['image.cmap'] = 'gray'\n",
        "\n",
        "# Try [BatchNorm - Conv - ReLU - Dropout] x 2 - FC - ReLu - FC\n",
        "# Use 64 channels and a 3x3 filter.\n",
        "channel = 64\n",
        "filter = 3\n",
        "\n",
        "ConvLayerInput = nn.Sequential(\n",
        "    nn.BatchNorm2d(3),\n",
        "    nn.Conv2d(3, channel, filter, padding=1),\n",
        "    nn.ReLU(),\n",
        "    nn.Dropout(),\n",
        ")\n",
        "\n",
        "ConvLayer = nn.Sequential(\n",
        "    nn.BatchNorm2d(64),\n",
        "    nn.Conv2d(channel, channel, filter, padding=1),\n",
        "    nn.ReLU(),\n",
        "    nn.Dropout()\n",
        ")\n",
        "\n",
        "hidden_dim = 100\n",
        "\n",
        "learning_rate = 10 ** np.random.uniform(-4, -3, 5)\n",
        "learning_rate.sort()\n",
        "\n",
        "\n",
        "epochs = 10\n",
        "best_val_acc = {}\n",
        "best_acc = 0\n",
        "for lr in learning_rate:\n",
        "  model = nn.Sequential(\n",
        "    ConvLayerInput,\n",
        "    ConvLayer,\n",
        "    Flatten(),\n",
        "    nn.Linear(64 * 32 * 32, hidden_dim),\n",
        "    nn.ReLU(),\n",
        "    nn.Linear(hidden_dim, 10)\n",
        "  )\n",
        "  print(\"using learning rate: %s\" % lr)\n",
        "  optimizer = optim.Adam(model.parameters(), lr=lr)\n",
        "  val_acc_history = train(model, optimizer, epochs=epochs)\n",
        "  best_val_acc[lr] = (max(val_acc_history))\n",
        "  if best_acc < best_val_acc[lr]:\n",
        "    best_model = model\n",
        "    best_acc = best_val_acc[lr]\n",
        "    best_lr = lr\n",
        "\n",
        "# Plot the different validation\n",
        "plt.title(\"Best Val Accuracy\")\n",
        "plt.xlabel(\"learning rate\")\n",
        "pair = sorted(best_val_acc.items())\n",
        "(x, y) = zip(*pair)\n",
        "plt.semilogx(x, y, '-o')\n",
        "plt.show()\n",
        "\n",
        "# *****END OF YOUR CODE (DO NOT DELETE/MODIFY THIS LINE)*****\n",
        "################################################################################\n",
        "#                                 END OF YOUR CODE                             #\n",
        "################################################################################\n",
        "\n",
        "# You should get at least 70% accuracy\n",
        "optimizer = optim.Adam(model.parameters(), lr=best_lr)\n",
        "train(best_model, optimizer, epochs=10)"
      ]
    },
    {
      "cell_type": "code",
      "source": [
        "print(best_acc)\n",
        "print(best_lr)\n"
      ],
      "metadata": {
        "id": "9YCGzQlpqg4v",
        "outputId": "ef3a8db0-a5b4-4308-a1c0-f15984ac4ddc",
        "colab": {
          "base_uri": "https://localhost:8080/"
        }
      },
      "execution_count": 28,
      "outputs": [
        {
          "output_type": "stream",
          "name": "stdout",
          "text": [
            "0.756\n",
            "0.00021734968822098997\n"
          ]
        }
      ]
    },
    {
      "cell_type": "markdown",
      "metadata": {
        "tags": [
          "pdf-inline"
        ],
        "id": "oPRjoS9SXwj8"
      },
      "source": [
        "## Describe what you did \n",
        "\n",
        "In the cell below you should write an explanation of what you did, any additional features that you implemented, and/or any graphs that you made in the process of training and evaluating your network."
      ]
    },
    {
      "cell_type": "markdown",
      "metadata": {
        "tags": [
          "pdf-inline"
        ],
        "id": "bf2J-ouoXwj8"
      },
      "source": [
        "**Answer:**\n",
        "\n"
      ]
    },
    {
      "cell_type": "markdown",
      "metadata": {
        "id": "ABbKHj_sXwj9"
      },
      "source": [
        "## Test set -- run this only once\n",
        "\n",
        "Now that we've gotten a result we're happy with, we test our final model on the test set (which you should store in best_model). Think about how this compares to your validation set accuracy."
      ]
    },
    {
      "cell_type": "code",
      "execution_count": 29,
      "metadata": {
        "id": "V4s5UmqIXwj9",
        "colab": {
          "base_uri": "https://localhost:8080/"
        },
        "outputId": "52ffc128-f9ad-4221-dad6-d83e38a9582d"
      },
      "outputs": [
        {
          "output_type": "stream",
          "name": "stdout",
          "text": [
            "Checking accuracy on test set\n",
            "Got 7284 / 10000 correct (72.84)\n"
          ]
        }
      ],
      "source": [
        "check_accuracy_part34(loader_test, best_model)"
      ]
    }
  ],
  "metadata": {
    "colab": {
      "provenance": [],
      "include_colab_link": true
    },
    "language_info": {
      "name": "python"
    },
    "kernelspec": {
      "name": "python3",
      "display_name": "Python 3"
    },
    "gpuClass": "standard",
    "accelerator": "GPU"
  },
  "nbformat": 4,
  "nbformat_minor": 0
}